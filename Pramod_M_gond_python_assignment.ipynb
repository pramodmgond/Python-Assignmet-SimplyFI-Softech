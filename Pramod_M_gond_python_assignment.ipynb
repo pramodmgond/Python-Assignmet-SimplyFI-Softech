{
 "cells": [
  {
   "cell_type": "markdown",
   "id": "fdfb4243",
   "metadata": {},
   "source": [
    "# Question 1"
   ]
  },
  {
   "cell_type": "markdown",
   "id": "282a146e",
   "metadata": {},
   "source": [
    "step 1 : The function indian_currency takes a single argument number, which is the input number to be converted.\n",
    "\n",
    "Step 2 : The number is converted to a string using str(number) and then reversed using the slicing notation [::-1]. This is          done to process the number from right to left in subsequent steps.\n",
    "\n",
    "step 3 : The reversed number string is then split into groups of two digits using a list comprehension. The slicing   \n",
    "         notation [i:i+2] extracts a substring of two digits, and [::-1] reverses the substring back to the original order.          The range(0, len(number_str), 2) in the list comprehension generates indices in steps of 2 to ensure we process            the string in groups of two digits.\n",
    "         \n",
    "step 4 : The resulting groups are stored in the groups list.\n",
    "\n",
    "step 5 : The groups list is then reversed using groups[::-1] to reverse the order of the groups.\n",
    "\n",
    "step 6 : The reversed groups are joined together into a single string using ','.join(groups[::-1]). The ','\n",
    "          is the separator that is used to join the groups together.\n",
    "          \n",
    "step 7 : The resulting string is returned as the output, representing the Indian currency notation of the input number."
   ]
  },
  {
   "cell_type": "code",
   "execution_count": 6,
   "id": "ab2773f8",
   "metadata": {},
   "outputs": [
    {
     "name": "stdout",
     "output_type": "stream",
     "text": [
      "50,46,78\n"
     ]
    }
   ],
   "source": [
    "def indian_currency(number):\n",
    "    # Convert the number to string and reverse it\n",
    "    number_str = str(number)[::-1]\n",
    "    #print(number_str)\n",
    "    \n",
    "    # Split the reversed string into groups of two digits\n",
    "    groups = [number_str[i:i+2][::-1] for i in range(0, len(number_str), 2)]\n",
    "   # print(groups)\n",
    "\n",
    "    # Reverse the order of groups and join them with commas\n",
    "    result = ','.join(groups[::-1])\n",
    "    \n",
    "    return result\n",
    "\n",
    "# Example usage\n",
    "number = 504678\n",
    "\n",
    "currency = indian_currency(number)\n",
    "print(currency)\n"
   ]
  },
  {
   "cell_type": "markdown",
   "id": "122c8099",
   "metadata": {},
   "source": [
    "# Question 2"
   ]
  },
  {
   "cell_type": "markdown",
   "id": "13050b2e",
   "metadata": {},
   "source": [
    "step 1 : Import the sys module. This module provides access to some variables used or maintained by the interpreter and              functions that interact with the interpreter\n",
    "\n",
    "step 2 : Define the minimum_players_shot function that takes in the number of players N, the height K, and a list of player          heights heights. This function calculates and returns the minimum number of players who need to get shot for Ali            to be visible in Gi-Hun's line of sight.\n",
    "\n",
    "step 3 : Read the number of test cases T from the user.\n",
    "\n",
    "step 4 : Validate the number of test cases. If T is less than 1 or greater than 105, print an error message and exit the            program using sys.exit().\n",
    "\n",
    "step 5 : Process each test case using a loop.\n",
    "\n",
    "\n",
    "step 6 : Read the number of players N and the height K of Gi-Hun and Ali from the user.\n",
    "\n",
    "step 7 : Validate the number of players N and the height K. If N is not between 1 and 105 (inclusive) or K is not between 1          and 106 (inclusive), print an error message and exit the program using sys.exit().\n",
    "\n",
    "step 8 : Read the heights of the players from the user and store them in a list called heights.\n",
    "\n",
    "step 9 : Validate the heights. If any height value is not between 1 and 106 (inclusive), print an error message and exit             the program using sys.exit().\n",
    "\n",
    "step 10 : Calculate the minimum number of players who need to get shot by calling the minimum_players_shot function with              the test case parameters.\n",
    "\n",
    "step 11 : Print the result for the current test case.\n"
   ]
  },
  {
   "cell_type": "code",
   "execution_count": 8,
   "id": "ca4f8f66",
   "metadata": {},
   "outputs": [
    {
     "name": "stdout",
     "output_type": "stream",
     "text": [
      "3 \n",
      "4 10 \n",
      "2 13 6 16 \n",
      "2\n",
      "5 8 \n",
      "9 3 8 8 4 \n",
      "1\n",
      "4 6 \n",
      "1 2 3 4 \n",
      "0\n"
     ]
    }
   ],
   "source": [
    "import sys\n",
    "\n",
    "def minimum_players_shot(N, K, heights):\n",
    "    count = 0\n",
    "\n",
    "    for height in heights:\n",
    "        if height > K:\n",
    "            count += 1\n",
    "\n",
    "    return count\n",
    "\n",
    "\n",
    "# Read the number of test cases\n",
    "T = int(input())\n",
    "\n",
    "# Validate the number of test cases\n",
    "if T < 1 or T > 105:\n",
    "    print(\"Invalid number of test cases\")\n",
    "    sys.exit()\n",
    "\n",
    "# Process each test case\n",
    "for _ in range(T):\n",
    "    # Read the number of players and the height of Gi-Hun and Ali\n",
    "    N, K = map(int, input().split())\n",
    "\n",
    "    # Validate the number of players and the height\n",
    "    if not (1 <= N <= 105) or not (1 <= K <= 106):\n",
    "        print(\"Invalid number of players or height\")\n",
    "        sys.exit()\n",
    "\n",
    "    # Read the heights of the players\n",
    "    heights = list(map(int, input().split()))\n",
    "\n",
    "    # Validate the heights\n",
    "    if not all(1 <= h <= 106 for h in heights):\n",
    "        print(\"Invalid height values\")\n",
    "        sys.exit()\n",
    "\n",
    "    # Calculate the minimum number of players who need to get shot\n",
    "    result = minimum_players_shot(N, K, heights)\n",
    "\n",
    "    # Print the result for the current test case\n",
    "    print(result)\n"
   ]
  },
  {
   "cell_type": "code",
   "execution_count": null,
   "id": "16a51b4e",
   "metadata": {},
   "outputs": [],
   "source": []
  },
  {
   "cell_type": "code",
   "execution_count": null,
   "id": "848940b9",
   "metadata": {},
   "outputs": [],
   "source": []
  }
 ],
 "metadata": {
  "kernelspec": {
   "display_name": "Python 3 (ipykernel)",
   "language": "python",
   "name": "python3"
  },
  "language_info": {
   "codemirror_mode": {
    "name": "ipython",
    "version": 3
   },
   "file_extension": ".py",
   "mimetype": "text/x-python",
   "name": "python",
   "nbconvert_exporter": "python",
   "pygments_lexer": "ipython3",
   "version": "3.10.9"
  }
 },
 "nbformat": 4,
 "nbformat_minor": 5
}
